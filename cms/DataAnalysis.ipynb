{
 "cells": [
  {
   "cell_type": "code",
   "execution_count": 2,
   "metadata": {
    "autoscroll": false,
    "collapsed": false,
    "ein.hycell": false,
    "ein.tags": "worksheet-0",
    "slideshow": {
     "slide_type": "-"
    }
   },
   "outputs": [],
   "source": [
    "import ROOT\n",
    "from ROOT import *"
   ]
  },
  {
   "cell_type": "code",
   "execution_count": 10,
   "metadata": {
    "autoscroll": false,
    "collapsed": false,
    "ein.hycell": false,
    "ein.tags": "worksheet-0",
    "slideshow": {
     "slide_type": "-"
    }
   },
   "outputs": [
    {
     "data": {
      "text/plain": [
       "59"
      ]
     },
     "execution_count": 10,
     "metadata": {},
     "output_type": "execute_result"
    }
   ],
   "source": [
    "d3 = ROOT.TChain(\"Events\")\n",
    "d3.Add(\"/xrootd/store/group/nanoAOD/run2_2016v3/SingleMuon/Run2016B-18Apr2017_ver2-v1/180124_072142/0000/*root\")\n",
    "d3.Add(\"/xrootd/store/group/nanoAOD/run2_2016v3/SingleMuon/Run2016B-18Apr2017_ver2-v1/180124_072142/0001/*root\")"
   ]
  },
  {
   "cell_type": "code",
   "execution_count": 6,
   "metadata": {
    "autoscroll": false,
    "collapsed": false,
    "ein.hycell": false,
    "ein.tags": "worksheet-0",
    "slideshow": {
     "slide_type": "-"
    }
   },
   "outputs": [
    {
     "data": {
      "text/plain": [
       "64"
      ]
     },
     "execution_count": 6,
     "metadata": {},
     "output_type": "execute_result"
    }
   ],
   "source": [
    "d = ROOT.TChain(\"Events\")\n",
    "d.Add(\"/xrootd/store/group/nanoAOD/run2_2016v4/SingleMuon/Run2016B-07Aug17_ver2-v1/180504_150018/0000/*root\")\n",
    "d.Add(\"/xrootd/store/group/nanoAOD/run2_2016v4/SingleMuon/Run2016B-07Aug17_ver2-v1/180504_150018/0001/*root\")"
   ]
  },
  {
   "cell_type": "code",
   "execution_count": 7,
   "metadata": {
    "autoscroll": false,
    "collapsed": false,
    "ein.hycell": false,
    "ein.tags": "worksheet-0",
    "slideshow": {
     "slide_type": "-"
    }
   },
   "outputs": [
    {
     "data": {
      "text/plain": [
       "158145722L"
      ]
     },
     "execution_count": 7,
     "metadata": {},
     "output_type": "execute_result"
    }
   ],
   "source": [
    "d.GetEntries()"
   ]
  },
  {
   "cell_type": "code",
   "execution_count": 11,
   "metadata": {
    "autoscroll": false,
    "collapsed": false,
    "ein.hycell": false,
    "ein.tags": "worksheet-0",
    "slideshow": {
     "slide_type": "-"
    }
   },
   "outputs": [
    {
     "data": {
      "text/plain": [
       "157946201L"
      ]
     },
     "execution_count": 11,
     "metadata": {},
     "output_type": "execute_result"
    }
   ],
   "source": [
    "d3.GetEntries()"
   ]
  },
  {
   "cell_type": "code",
   "execution_count": 26,
   "metadata": {
    "autoscroll": false,
    "collapsed": false,
    "ein.hycell": false,
    "ein.tags": "worksheet-0",
    "slideshow": {
     "slide_type": "-"
    }
   },
   "outputs": [],
   "source": [
    "d3.SetLineColor(ROOT.kRed)\n",
    "d.SetLineColor(ROOT.kBlue)\n",
    "\n",
    "d3.SetLineWidth(2)\n",
    "d.SetLineWidth(2)\n",
    "\n",
    "lgd = ROOT.TLegend(0.6,0.6,0.9,0.9)\n",
    "lgd.AddEntry(d3, \"ver3\")\n",
    "lgd.AddEntry(d, \"ver4\")\n",
    "\n",
    "ROOT.gStyle.SetOptStat(0)\n",
    "\n",
    "cvs = ROOT.TCanvas()"
   ]
  },
  {
   "cell_type": "code",
   "execution_count": 29,
   "metadata": {
    "autoscroll": false,
    "collapsed": false,
    "ein.hycell": false,
    "ein.tags": "worksheet-0",
    "slideshow": {
     "slide_type": "-"
    }
   },
   "outputs": [
    {
     "data": {
      "image/png": "[encoded data removed]",
      "text/plain": [
       "<IPython.core.display.Image object>"
      ]
     },
     "metadata": {},
     "output_type": "display_data"
    }
   ],
   "source": [
    "d3.Draw(\"nJet\", \"\", \"\", 1000000)\n",
    "d.Draw(\"nJet\", \"\", \"same\", 1000000)\n",
    "lgd.Draw()\n",
    "\n",
    "cvs.Draw()"
   ]
  },
  {
   "cell_type": "code",
   "execution_count": 22,
   "metadata": {
    "autoscroll": false,
    "collapsed": false,
    "ein.hycell": false,
    "ein.tags": "worksheet-0",
    "slideshow": {
     "slide_type": "-"
    }
   },
   "outputs": [
    {
     "data": {
      "text/plain": [
       "(<ROOT.TFile object (\"/xrootd/store/group/nanoAOD/run2_2016v3/SingleMuon/Run2016B-18Apr2017_ver2-v1/180124_072142/0000/nanoAOD_1.root\") at 0x63c79c0>,\n <ROOT.TFile object (\"/xrootd/store/group/nanoAOD/run2_2016v4/SingleMuon/Run2016B-07Aug17_ver2-v1/180504_150018/0000/nanoAOD_1.root\") at 0x445b1a0>)"
      ]
     },
     "execution_count": 22,
     "metadata": {},
     "output_type": "execute_result"
    }
   ],
   "source": [
    "d3.GetCurrentFile(), d.GetCurrentFile()"
   ]
  }
 ],
 "metadata": {
  "kernelspec": {
   "display_name": "Python 2",
   "name": "python2"
  },
  "name": "DataAnalysis.ipynb"
 },
 "nbformat": 4,
 "nbformat_minor": 2
}
