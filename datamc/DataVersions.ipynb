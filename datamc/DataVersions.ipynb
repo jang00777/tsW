{
 "cells": [
  {
   "cell_type": "code",
   "execution_count": null,
   "metadata": {
    "autoscroll": false,
    "collapsed": false,
    "ein.hycell": false,
    "ein.tags": "worksheet-0",
    "slideshow": {
     "slide_type": "-"
    }
   },
   "outputs": [],
   "source": [
    "!slCalibAnalysis '/xrootd/store/group/nanoAOD/run2_2016v3/SingleMuon/Run2016C-18Apr2017-v1/180124_072705/0000/*.root' SingleMuon_RunC_2016v3.root"
   ]
  },
  {
   "cell_type": "code",
   "execution_count": null,
   "metadata": {
    "autoscroll": false,
    "collapsed": false,
    "ein.hycell": false,
    "ein.tags": "worksheet-0",
    "slideshow": {
     "slide_type": "-"
    }
   },
   "outputs": [],
   "source": [
    "!slCalibAnalysis '/xrootd/store/group/nanoAOD/run2_2016v4/SingleMuon/Run2016C-07Aug17-v1/180504_150105/0000/*.root' SingleMuon_RunC_2016v4.root"
   ]
  },
  {
   "cell_type": "code",
   "execution_count": 1,
   "metadata": {
    "autoscroll": false,
    "collapsed": false,
    "ein.hycell": false,
    "ein.tags": "worksheet-0",
    "slideshow": {
     "slide_type": "-"
    }
   },
   "outputs": [
    {
     "name": "stdout",
     "output_type": "stream",
     "text": [
      "Welcome to JupyROOT 6.10/09\n"
     ]
    }
   ],
   "source": [
    "import ROOT"
   ]
  },
  {
   "cell_type": "code",
   "execution_count": 10,
   "metadata": {
    "autoscroll": false,
    "collapsed": false,
    "ein.hycell": false,
    "ein.tags": "worksheet-0",
    "slideshow": {
     "slide_type": "-"
    }
   },
   "outputs": [],
   "source": [
    "f3 = ROOT.TFile(\"SingleMuon_RunC_2016v3.root\")\n",
    "f4 = ROOT.TFile(\"SingleMuon_RunC_2016v4.root\")\n",
    "\n",
    "c3 = f3.event\n",
    "c4 = f4.event\n",
    "\n",
    "c3.SetLineColor(ROOT.kRed); c3.SetLineWidth(2)\n",
    "c4.SetLineColor(ROOT.kBlue); c4.SetLineWidth(2)\n",
    "\n",
    "ROOT.gStyle.SetOptStat(0)\n",
    "\n",
    "lgd = ROOT.TLegend(.6,.6,.9,.9)\n",
    "lgd.AddEntry(c3, \"ver3\")\n",
    "lgd.AddEntry(c4, \"ver4\")\n",
    "\n",
    "cvs = ROOT.TCanvas()"
   ]
  },
  {
   "cell_type": "code",
   "execution_count": 12,
   "metadata": {
    "autoscroll": false,
    "collapsed": false,
    "ein.hycell": false,
    "ein.tags": "worksheet-0",
    "slideshow": {
     "slide_type": "-"
    }
   },
   "outputs": [
    {
     "data": {
      "text/plain": [
       "(248946L, 242620L)"
      ]
     },
     "execution_count": 12,
     "metadata": {},
     "output_type": "execute_result"
    },
    {
     "data": {
      "image/png": "[encoded data removed]",
      "text/plain": [
       "<IPython.core.display.Image object>"
      ]
     },
     "metadata": {},
     "output_type": "display_data"
    }
   ],
   "source": [
    "i3 = c3.Draw(\"njet\", \"njet>=0\", \"\")\n",
    "i4 = c4.Draw(\"njet\", \"njet>=0\", \"same\")\n",
    "cvs.Draw()\n",
    "i3, i4"
   ]
  },
  {
   "cell_type": "code",
   "execution_count": 13,
   "metadata": {
    "autoscroll": false,
    "collapsed": false,
    "ein.hycell": false,
    "ein.tags": "worksheet-0",
    "slideshow": {
     "slide_type": "-"
    }
   },
   "outputs": [],
   "source": [
    "d3 = ROOT.TChain(\"Events\")\n",
    "d4 = ROOT.TChain(\"Events\")\n",
    "d3.Add(\"/xrootd/store/group/nanoAOD/run2_2016v3/SingleMuon/Run2016C-18Apr2017-v1/180124_072705/0000/*.root\")\n",
    "d4.Add(\"/xrootd/store/group/nanoAOD/run2_2016v4/SingleMuon/Run2016C-07Aug17-v1/180504_150105/0000/*.root\")\n",
    "\n",
    "d3.SetLineColor(ROOT.kRed); d3.SetLineWidth(2)\n",
    "d4.SetLineColor(ROOT.kBlue); d4.SetLineWidth(2)\n"
   ]
  },
  {
   "cell_type": "code",
   "execution_count": 15,
   "metadata": {
    "autoscroll": false,
    "collapsed": false,
    "ein.hycell": false,
    "ein.tags": "worksheet-0",
    "slideshow": {
     "slide_type": "-"
    }
   },
   "outputs": [
    {
     "data": {
      "text/plain": [
       "(250000L, 250000L)"
      ]
     },
     "execution_count": 15,
     "metadata": {},
     "output_type": "execute_result"
    },
    {
     "data": {
      "image/png": "[encoded data removed]",
      "text/plain": [
       "<IPython.core.display.Image object>"
      ]
     },
     "metadata": {},
     "output_type": "display_data"
    }
   ],
   "source": [
    "i3 = d3.Draw(\"nJet\", \"\", \"\", 250000)\n",
    "i4 = d4.Draw(\"nJet\", \"\", \"same\", 250000)\n",
    "cvs.Draw()\n",
    "i3, i4"
   ]
  },
  {
   "cell_type": "code",
   "execution_count": null,
   "metadata": {
    "autoscroll": false,
    "collapsed": false,
    "ein.hycell": false,
    "ein.tags": "worksheet-0",
    "slideshow": {
     "slide_type": "-"
    }
   },
   "outputs": [],
   "source": []
  }
 ],
 "metadata": {
  "kernelspec": {
   "display_name": "Python 2",
   "name": "python2"
  },
  "name": "DataVersions.ipynb"
 },
 "nbformat": 4,
 "nbformat_minor": 2
}
